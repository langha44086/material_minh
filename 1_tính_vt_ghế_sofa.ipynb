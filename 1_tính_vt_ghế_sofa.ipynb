{
 "cells": [
  {
   "cell_type": "code",
   "execution_count": 2,
   "metadata": {},
   "outputs": [],
   "source": [
    "# Import các thư viện cần thiết\n",
    "import pandas as pd\n",
    "import numpy as np\n",
    "from sklearn.model_selection import train_test_split\n",
    "from sklearn.linear_model import LinearRegression\n",
    "from sklearn.metrics import mean_absolute_error"
   ]
  },
  {
   "cell_type": "code",
   "execution_count": 3,
   "metadata": {},
   "outputs": [],
   "source": [
    "# Giả sử chúng ta đã có dataset\n",
    "data = {\n",
    "    'Date': ['2024-01-01', '2024-01-02', '2024-01-03', '2024-01-04', '2024-01-05'],\n",
    "    'Production Quantity': [10, 15, 20, 25, 30],\n",
    "    'Fabric Used (meters)': [50, 75, 100, 125, 150],\n",
    "    'Wood Used (cubic meters)': [2, 3, 4, 5, 6],\n",
    "    'Foam Used (kg)': [20, 30, 40, 50, 60],\n",
    "    'Labor Hours': [100, 150, 200, 250, 300]\n",
    "}"
   ]
  },
  {
   "cell_type": "code",
   "execution_count": 4,
   "metadata": {},
   "outputs": [],
   "source": [
    "# Chuyển đổi dữ liệu thành DataFrame\n",
    "df = pd.DataFrame(data)"
   ]
  },
  {
   "cell_type": "code",
   "execution_count": 5,
   "metadata": {},
   "outputs": [],
   "source": [
    "# Chọn biến độc lập (features) và biến phụ thuộc (target)\n",
    "X = df[['Production Quantity']]\n",
    "y_fabric = df['Fabric Used (meters)']\n",
    "y_wood = df['Wood Used (cubic meters)']\n",
    "y_foam = df['Foam Used (kg)']\n",
    "y_labor = df['Labor Hours']"
   ]
  },
  {
   "cell_type": "code",
   "execution_count": 6,
   "metadata": {},
   "outputs": [],
   "source": [
    "# Chia dữ liệu thành tập huấn luyện và tập kiểm tra\n",
    "X_train, X_test, y_fabric_train, y_fabric_test = train_test_split(X, y_fabric, test_size=0.2, random_state=42)\n",
    "X_train, X_test, y_wood_train, y_wood_test = train_test_split(X, y_wood, test_size=0.2, random_state=42)\n",
    "X_train, X_test, y_foam_train, y_foam_test = train_test_split(X, y_foam, test_size=0.2, random_state=42)\n",
    "X_train, X_test, y_labor_train, y_labor_test = train_test_split(X, y_labor, test_size=0.2, random_state=42)"
   ]
  },
  {
   "cell_type": "code",
   "execution_count": 7,
   "metadata": {},
   "outputs": [],
   "source": [
    "# Tạo mô hình hồi quy tuyến tính\n",
    "model_fabric = LinearRegression()\n",
    "model_wood = LinearRegression()\n",
    "model_foam = LinearRegression()\n",
    "model_labor = LinearRegression()"
   ]
  },
  {
   "cell_type": "code",
   "execution_count": 8,
   "metadata": {},
   "outputs": [
    {
     "data": {
      "text/html": [
       "<style>#sk-container-id-1 {color: black;background-color: white;}#sk-container-id-1 pre{padding: 0;}#sk-container-id-1 div.sk-toggleable {background-color: white;}#sk-container-id-1 label.sk-toggleable__label {cursor: pointer;display: block;width: 100%;margin-bottom: 0;padding: 0.3em;box-sizing: border-box;text-align: center;}#sk-container-id-1 label.sk-toggleable__label-arrow:before {content: \"▸\";float: left;margin-right: 0.25em;color: #696969;}#sk-container-id-1 label.sk-toggleable__label-arrow:hover:before {color: black;}#sk-container-id-1 div.sk-estimator:hover label.sk-toggleable__label-arrow:before {color: black;}#sk-container-id-1 div.sk-toggleable__content {max-height: 0;max-width: 0;overflow: hidden;text-align: left;background-color: #f0f8ff;}#sk-container-id-1 div.sk-toggleable__content pre {margin: 0.2em;color: black;border-radius: 0.25em;background-color: #f0f8ff;}#sk-container-id-1 input.sk-toggleable__control:checked~div.sk-toggleable__content {max-height: 200px;max-width: 100%;overflow: auto;}#sk-container-id-1 input.sk-toggleable__control:checked~label.sk-toggleable__label-arrow:before {content: \"▾\";}#sk-container-id-1 div.sk-estimator input.sk-toggleable__control:checked~label.sk-toggleable__label {background-color: #d4ebff;}#sk-container-id-1 div.sk-label input.sk-toggleable__control:checked~label.sk-toggleable__label {background-color: #d4ebff;}#sk-container-id-1 input.sk-hidden--visually {border: 0;clip: rect(1px 1px 1px 1px);clip: rect(1px, 1px, 1px, 1px);height: 1px;margin: -1px;overflow: hidden;padding: 0;position: absolute;width: 1px;}#sk-container-id-1 div.sk-estimator {font-family: monospace;background-color: #f0f8ff;border: 1px dotted black;border-radius: 0.25em;box-sizing: border-box;margin-bottom: 0.5em;}#sk-container-id-1 div.sk-estimator:hover {background-color: #d4ebff;}#sk-container-id-1 div.sk-parallel-item::after {content: \"\";width: 100%;border-bottom: 1px solid gray;flex-grow: 1;}#sk-container-id-1 div.sk-label:hover label.sk-toggleable__label {background-color: #d4ebff;}#sk-container-id-1 div.sk-serial::before {content: \"\";position: absolute;border-left: 1px solid gray;box-sizing: border-box;top: 0;bottom: 0;left: 50%;z-index: 0;}#sk-container-id-1 div.sk-serial {display: flex;flex-direction: column;align-items: center;background-color: white;padding-right: 0.2em;padding-left: 0.2em;position: relative;}#sk-container-id-1 div.sk-item {position: relative;z-index: 1;}#sk-container-id-1 div.sk-parallel {display: flex;align-items: stretch;justify-content: center;background-color: white;position: relative;}#sk-container-id-1 div.sk-item::before, #sk-container-id-1 div.sk-parallel-item::before {content: \"\";position: absolute;border-left: 1px solid gray;box-sizing: border-box;top: 0;bottom: 0;left: 50%;z-index: -1;}#sk-container-id-1 div.sk-parallel-item {display: flex;flex-direction: column;z-index: 1;position: relative;background-color: white;}#sk-container-id-1 div.sk-parallel-item:first-child::after {align-self: flex-end;width: 50%;}#sk-container-id-1 div.sk-parallel-item:last-child::after {align-self: flex-start;width: 50%;}#sk-container-id-1 div.sk-parallel-item:only-child::after {width: 0;}#sk-container-id-1 div.sk-dashed-wrapped {border: 1px dashed gray;margin: 0 0.4em 0.5em 0.4em;box-sizing: border-box;padding-bottom: 0.4em;background-color: white;}#sk-container-id-1 div.sk-label label {font-family: monospace;font-weight: bold;display: inline-block;line-height: 1.2em;}#sk-container-id-1 div.sk-label-container {text-align: center;}#sk-container-id-1 div.sk-container {/* jupyter's `normalize.less` sets `[hidden] { display: none; }` but bootstrap.min.css set `[hidden] { display: none !important; }` so we also need the `!important` here to be able to override the default hidden behavior on the sphinx rendered scikit-learn.org. See: https://github.com/scikit-learn/scikit-learn/issues/21755 */display: inline-block !important;position: relative;}#sk-container-id-1 div.sk-text-repr-fallback {display: none;}</style><div id=\"sk-container-id-1\" class=\"sk-top-container\"><div class=\"sk-text-repr-fallback\"><pre>LinearRegression()</pre><b>In a Jupyter environment, please rerun this cell to show the HTML representation or trust the notebook. <br />On GitHub, the HTML representation is unable to render, please try loading this page with nbviewer.org.</b></div><div class=\"sk-container\" hidden><div class=\"sk-item\"><div class=\"sk-estimator sk-toggleable\"><input class=\"sk-toggleable__control sk-hidden--visually\" id=\"sk-estimator-id-1\" type=\"checkbox\" checked><label for=\"sk-estimator-id-1\" class=\"sk-toggleable__label sk-toggleable__label-arrow\">LinearRegression</label><div class=\"sk-toggleable__content\"><pre>LinearRegression()</pre></div></div></div></div></div>"
      ],
      "text/plain": [
       "LinearRegression()"
      ]
     },
     "execution_count": 8,
     "metadata": {},
     "output_type": "execute_result"
    }
   ],
   "source": [
    "# Huấn luyện mô hình\n",
    "model_fabric.fit(X_train, y_fabric_train)\n",
    "model_wood.fit(X_train, y_wood_train)\n",
    "model_foam.fit(X_train, y_foam_train)\n",
    "model_labor.fit(X_train, y_labor_train)"
   ]
  },
  {
   "cell_type": "code",
   "execution_count": 9,
   "metadata": {},
   "outputs": [],
   "source": [
    "# Dự đoán trên tập kiểm tra\n",
    "y_fabric_pred = model_fabric.predict(X_test)\n",
    "y_wood_pred = model_wood.predict(X_test)\n",
    "y_foam_pred = model_foam.predict(X_test)\n",
    "y_labor_pred = model_labor.predict(X_test)"
   ]
  },
  {
   "cell_type": "code",
   "execution_count": 10,
   "metadata": {},
   "outputs": [],
   "source": [
    "# Đánh giá mô hình\n",
    "mae_fabric = mean_absolute_error(y_fabric_test, y_fabric_pred)\n",
    "mae_wood = mean_absolute_error(y_wood_test, y_wood_pred)\n",
    "mae_foam = mean_absolute_error(y_foam_test, y_foam_pred)\n",
    "mae_labor = mean_absolute_error(y_labor_test, y_labor_pred)"
   ]
  },
  {
   "cell_type": "code",
   "execution_count": 11,
   "metadata": {},
   "outputs": [
    {
     "name": "stdout",
     "output_type": "stream",
     "text": [
      "MAE for Fabric Used: 0.0\n",
      "MAE for Wood Used: 4.440892098500626e-16\n",
      "MAE for Foam Used: 0.0\n",
      "MAE for Labor Hours: 0.0\n"
     ]
    }
   ],
   "source": [
    "print(f'MAE for Fabric Used: {mae_fabric}')\n",
    "print(f'MAE for Wood Used: {mae_wood}')\n",
    "print(f'MAE for Foam Used: {mae_foam}')\n",
    "print(f'MAE for Labor Hours: {mae_labor}')"
   ]
  },
  {
   "cell_type": "code",
   "execution_count": 12,
   "metadata": {},
   "outputs": [],
   "source": [
    "# Dự đoán lượng vật tư cần thiết cho 35 ghế sofa\n",
    "new_production = pd.DataFrame({'Production Quantity': [35]})\n",
    "fabric_needed = model_fabric.predict(new_production)\n",
    "wood_needed = model_wood.predict(new_production)\n",
    "foam_needed = model_foam.predict(new_production)\n",
    "labor_needed = model_labor.predict(new_production)"
   ]
  },
  {
   "cell_type": "code",
   "execution_count": 13,
   "metadata": {},
   "outputs": [
    {
     "name": "stdout",
     "output_type": "stream",
     "text": [
      "Fabric Needed (meters) for 35 sofas: 175.0\n",
      "Wood Needed (cubic meters) for 35 sofas: 7.000000000000001\n",
      "Foam Needed (kg) for 35 sofas: 70.0\n",
      "Labor Hours Needed for 35 sofas: 350.0\n"
     ]
    }
   ],
   "source": [
    "print(f'Fabric Needed (meters) for 35 sofas: {fabric_needed[0]}')\n",
    "print(f'Wood Needed (cubic meters) for 35 sofas: {wood_needed[0]}')\n",
    "print(f'Foam Needed (kg) for 35 sofas: {foam_needed[0]}')\n",
    "print(f'Labor Hours Needed for 35 sofas: {labor_needed[0]}')"
   ]
  },
  {
   "cell_type": "markdown",
   "metadata": {},
   "source": [
    "### <a> Đoạn code hoàn chỉnh"
   ]
  },
  {
   "cell_type": "code",
   "execution_count": 1,
   "metadata": {},
   "outputs": [
    {
     "name": "stdout",
     "output_type": "stream",
     "text": [
      "MAE for Fabric Used: 0.0\n",
      "MAE for Wood Used: 4.440892098500626e-16\n",
      "MAE for Foam Used: 0.0\n",
      "MAE for Labor Hours: 0.0\n",
      "Fabric Needed (meters) for 35 sofas: 175.0\n",
      "Wood Needed (cubic meters) for 35 sofas: 7.000000000000001\n",
      "Foam Needed (kg) for 35 sofas: 70.0\n",
      "Labor Hours Needed for 35 sofas: 350.0\n"
     ]
    }
   ],
   "source": [
    "# Import các thư viện cần thiết\n",
    "import pandas as pd\n",
    "import numpy as np\n",
    "from sklearn.model_selection import train_test_split\n",
    "from sklearn.linear_model import LinearRegression\n",
    "from sklearn.metrics import mean_absolute_error\n",
    "\n",
    "# Giả sử chúng ta đã có dataset\n",
    "data = {\n",
    "    'Date': ['2024-01-01', '2024-01-02', '2024-01-03', '2024-01-04', '2024-01-05'],\n",
    "    'Production Quantity': [10, 15, 20, 25, 30],\n",
    "    'Fabric Used (meters)': [50, 75, 100, 125, 150],\n",
    "    'Wood Used (cubic meters)': [2, 3, 4, 5, 6],\n",
    "    'Foam Used (kg)': [20, 30, 40, 50, 60],\n",
    "    'Labor Hours': [100, 150, 200, 250, 300]\n",
    "}\n",
    "\n",
    "# Chuyển đổi dữ liệu thành DataFrame\n",
    "df = pd.DataFrame(data)\n",
    "\n",
    "# Chọn biến độc lập (features) và biến phụ thuộc (target)\n",
    "X = df[['Production Quantity']]\n",
    "y_fabric = df['Fabric Used (meters)']\n",
    "y_wood = df['Wood Used (cubic meters)']\n",
    "y_foam = df['Foam Used (kg)']\n",
    "y_labor = df['Labor Hours']\n",
    "\n",
    "# Chia dữ liệu thành tập huấn luyện và tập kiểm tra\n",
    "X_train, X_test, y_fabric_train, y_fabric_test = train_test_split(X, y_fabric, test_size=0.2, random_state=42)\n",
    "X_train, X_test, y_wood_train, y_wood_test = train_test_split(X, y_wood, test_size=0.2, random_state=42)\n",
    "X_train, X_test, y_foam_train, y_foam_test = train_test_split(X, y_foam, test_size=0.2, random_state=42)\n",
    "X_train, X_test, y_labor_train, y_labor_test = train_test_split(X, y_labor, test_size=0.2, random_state=42)\n",
    "\n",
    "# Tạo mô hình hồi quy tuyến tính\n",
    "model_fabric = LinearRegression()\n",
    "model_wood = LinearRegression()\n",
    "model_foam = LinearRegression()\n",
    "model_labor = LinearRegression()\n",
    "\n",
    "# Huấn luyện mô hình\n",
    "model_fabric.fit(X_train, y_fabric_train)\n",
    "model_wood.fit(X_train, y_wood_train)\n",
    "model_foam.fit(X_train, y_foam_train)\n",
    "model_labor.fit(X_train, y_labor_train)\n",
    "\n",
    "# Dự đoán trên tập kiểm tra\n",
    "y_fabric_pred = model_fabric.predict(X_test)\n",
    "y_wood_pred = model_wood.predict(X_test)\n",
    "y_foam_pred = model_foam.predict(X_test)\n",
    "y_labor_pred = model_labor.predict(X_test)\n",
    "\n",
    "# Đánh giá mô hình\n",
    "mae_fabric = mean_absolute_error(y_fabric_test, y_fabric_pred)\n",
    "mae_wood = mean_absolute_error(y_wood_test, y_wood_pred)\n",
    "mae_foam = mean_absolute_error(y_foam_test, y_foam_pred)\n",
    "mae_labor = mean_absolute_error(y_labor_test, y_labor_pred)\n",
    "\n",
    "print(f'MAE for Fabric Used: {mae_fabric}')\n",
    "print(f'MAE for Wood Used: {mae_wood}')\n",
    "print(f'MAE for Foam Used: {mae_foam}')\n",
    "print(f'MAE for Labor Hours: {mae_labor}')\n",
    "\n",
    "# Dự đoán lượng vật tư cần thiết cho 35 ghế sofa\n",
    "new_production = pd.DataFrame({'Production Quantity': [35]})\n",
    "fabric_needed = model_fabric.predict(new_production)\n",
    "wood_needed = model_wood.predict(new_production)\n",
    "foam_needed = model_foam.predict(new_production)\n",
    "labor_needed = model_labor.predict(new_production)\n",
    "\n",
    "print(f'Fabric Needed (meters) for 35 sofas: {fabric_needed[0]}')\n",
    "print(f'Wood Needed (cubic meters) for 35 sofas: {wood_needed[0]}')\n",
    "print(f'Foam Needed (kg) for 35 sofas: {foam_needed[0]}')\n",
    "print(f'Labor Hours Needed for 35 sofas: {labor_needed[0]}')\n"
   ]
  }
 ],
 "metadata": {
  "kernelspec": {
   "display_name": "Python 3",
   "language": "python",
   "name": "python3"
  },
  "language_info": {
   "codemirror_mode": {
    "name": "ipython",
    "version": 3
   },
   "file_extension": ".py",
   "mimetype": "text/x-python",
   "name": "python",
   "nbconvert_exporter": "python",
   "pygments_lexer": "ipython3",
   "version": "3.9.12"
  }
 },
 "nbformat": 4,
 "nbformat_minor": 2
}
